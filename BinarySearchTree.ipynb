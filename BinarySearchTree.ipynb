{
 "metadata": {
  "language_info": {
   "codemirror_mode": {
    "name": "ipython",
    "version": 3
   },
   "file_extension": ".py",
   "mimetype": "text/x-python",
   "name": "python",
   "nbconvert_exporter": "python",
   "pygments_lexer": "ipython3",
   "version": "3.7.6-final"
  },
  "orig_nbformat": 2,
  "kernelspec": {
   "name": "python_defaultSpec_1598803888825",
   "display_name": "Python 3.7.6 64-bit ('base': conda)"
  }
 },
 "nbformat": 4,
 "nbformat_minor": 2,
 "cells": [
  {
   "cell_type": "code",
   "execution_count": 123,
   "metadata": {},
   "outputs": [],
   "source": [
    "class Node(object):\n",
    "    def __init__(self, key = None):\n",
    "        self.key = key\n",
    "        self.left = None\n",
    "        self.right = None \n",
    "\n",
    "\n",
    "def insert(root, node):\n",
    "    if root is None:\n",
    "        root = node\n",
    "    else:\n",
    "        if root.key < node.key:\n",
    "            if root.right == None:\n",
    "                root.right = node\n",
    "            else :\n",
    "                insert(root.right, node)\n",
    "        else:\n",
    "            if root.left == None:\n",
    "                root.left = node\n",
    "            else:\n",
    "                insert(root.left, node)\n",
    "def inorder_tree_walk(x):\n",
    "    if x != None :\n",
    "        inorder_tree_walk(x.left)\n",
    "        print(x.key)\n",
    "        inorder_tree_walk(x.right)\n",
    "    \n"
   ]
  },
  {
   "cell_type": "code",
   "execution_count": 120,
   "metadata": {},
   "outputs": [],
   "source": [
    "tree = Node(12)"
   ]
  },
  {
   "cell_type": "code",
   "execution_count": 121,
   "metadata": {},
   "outputs": [],
   "source": [
    "insert(tree, Node(5))\n",
    "insert(tree, Node(2))\n",
    "insert(tree, Node(9))\n",
    "insert(tree, Node(18))\n",
    "insert(tree, Node(15))\n",
    "insert(tree, Node(19))\n",
    "insert(tree, Node(17))\n",
    "\n"
   ]
  },
  {
   "cell_type": "code",
   "execution_count": 127,
   "metadata": {
    "tags": []
   },
   "outputs": [
    {
     "output_type": "stream",
     "name": "stdout",
     "text": "2\n5\n9\n12\n13\n15\n17\n18\n19\n"
    }
   ],
   "source": [
    "inorder_tree_walk(tree)"
   ]
  },
  {
   "cell_type": "code",
   "execution_count": 126,
   "metadata": {},
   "outputs": [],
   "source": [
    "insert(tree, Node(13))"
   ]
  },
  {
   "cell_type": "code",
   "execution_count": 83,
   "metadata": {},
   "outputs": [],
   "source": [
    "tree.key\n"
   ]
  },
  {
   "cell_type": "code",
   "execution_count": null,
   "metadata": {},
   "outputs": [],
   "source": []
  }
 ]
}