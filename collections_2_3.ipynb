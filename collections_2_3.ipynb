{
 "metadata": {
  "language_info": {
   "codemirror_mode": {
    "name": "ipython",
    "version": 3
   },
   "file_extension": ".py",
   "mimetype": "text/x-python",
   "name": "python",
   "nbconvert_exporter": "python",
   "pygments_lexer": "ipython3",
   "version": "3.7.6-final"
  },
  "orig_nbformat": 2,
  "kernelspec": {
   "name": "python_defaultSpec_1598113950384",
   "display_name": "Python 3.7.6 64-bit ('base': conda)"
  }
 },
 "nbformat": 4,
 "nbformat_minor": 2,
 "cells": [
  {
   "cell_type": "markdown",
   "metadata": {},
   "source": [
    "# namedtuple"
   ]
  },
  {
   "cell_type": "code",
   "execution_count": 2,
   "metadata": {},
   "outputs": [],
   "source": [
    "from collections import defaultdict, namedtuple, Counter, deque\n",
    "import csv\n",
    "import random \n",
    "from urllib.request import urlretrieve"
   ]
  },
  {
   "cell_type": "code",
   "execution_count": 3,
   "metadata": {},
   "outputs": [],
   "source": [
    "user = ('bob', 'coder')"
   ]
  },
  {
   "cell_type": "code",
   "execution_count": 4,
   "metadata": {},
   "outputs": [
    {
     "output_type": "execute_result",
     "data": {
      "text/plain": "'bob is a coder'"
     },
     "metadata": {},
     "execution_count": 4
    }
   ],
   "source": [
    "f'{user[0]} is a {user[1]}'"
   ]
  },
  {
   "cell_type": "code",
   "execution_count": 5,
   "metadata": {},
   "outputs": [],
   "source": [
    "User  = namedtuple('User', 'name role')"
   ]
  },
  {
   "cell_type": "code",
   "execution_count": 6,
   "metadata": {},
   "outputs": [],
   "source": [
    "user = User(name = 'bob', role = 'coder')"
   ]
  },
  {
   "cell_type": "code",
   "execution_count": 7,
   "metadata": {},
   "outputs": [
    {
     "output_type": "execute_result",
     "data": {
      "text/plain": "'coder'"
     },
     "metadata": {},
     "execution_count": 7
    }
   ],
   "source": [
    "user.role"
   ]
  },
  {
   "cell_type": "code",
   "execution_count": 9,
   "metadata": {},
   "outputs": [
    {
     "output_type": "execute_result",
     "data": {
      "text/plain": "'bob'"
     },
     "metadata": {},
     "execution_count": 9
    }
   ],
   "source": [
    "user.name\n"
   ]
  },
  {
   "cell_type": "code",
   "execution_count": 10,
   "metadata": {},
   "outputs": [
    {
     "output_type": "execute_result",
     "data": {
      "text/plain": "'bob is a coder'"
     },
     "metadata": {},
     "execution_count": 10
    }
   ],
   "source": [
    "f'{user.name} is a {user.role}'\n"
   ]
  },
  {
   "cell_type": "markdown",
   "metadata": {},
   "source": [
    "# defaultdict"
   ]
  },
  {
   "cell_type": "code",
   "execution_count": 15,
   "metadata": {},
   "outputs": [],
   "source": [
    "users = {'bob':'coder'}"
   ]
  },
  {
   "cell_type": "code",
   "execution_count": 16,
   "metadata": {},
   "outputs": [
    {
     "output_type": "error",
     "ename": "KeyError",
     "evalue": "'julian'",
     "traceback": [
      "\u001b[0;31m---------------------------------------------------------------------------\u001b[0m",
      "\u001b[0;31mKeyError\u001b[0m                                  Traceback (most recent call last)",
      "\u001b[0;32m<ipython-input-16-02d6d7ea88ea>\u001b[0m in \u001b[0;36m<module>\u001b[0;34m\u001b[0m\n\u001b[1;32m      1\u001b[0m \u001b[0musers\u001b[0m\u001b[0;34m[\u001b[0m\u001b[0;34m'bob'\u001b[0m\u001b[0;34m]\u001b[0m\u001b[0;34m\u001b[0m\u001b[0;34m\u001b[0m\u001b[0m\n\u001b[0;32m----> 2\u001b[0;31m \u001b[0musers\u001b[0m\u001b[0;34m[\u001b[0m\u001b[0;34m'julian'\u001b[0m\u001b[0;34m]\u001b[0m\u001b[0;34m\u001b[0m\u001b[0;34m\u001b[0m\u001b[0m\n\u001b[0m",
      "\u001b[0;31mKeyError\u001b[0m: 'julian'"
     ]
    }
   ],
   "source": [
    "users['bob']\n",
    "users['julian']"
   ]
  },
  {
   "cell_type": "code",
   "execution_count": 17,
   "metadata": {},
   "outputs": [
    {
     "output_type": "execute_result",
     "data": {
      "text/plain": "'coder'"
     },
     "metadata": {},
     "execution_count": 17
    }
   ],
   "source": [
    "users.get('bob')"
   ]
  },
  {
   "cell_type": "code",
   "execution_count": 18,
   "metadata": {},
   "outputs": [
    {
     "output_type": "execute_result",
     "data": {
      "text/plain": "True"
     },
     "metadata": {},
     "execution_count": 18
    }
   ],
   "source": [
    "users.get('julian') is None"
   ]
  },
  {
   "cell_type": "code",
   "execution_count": 19,
   "metadata": {},
   "outputs": [],
   "source": [
    "challenges_done = [('mike', 10), ('julian', 7), ('bob', 5), ('mike', 11), ('julian', 8), ('bob', 6)]"
   ]
  },
  {
   "cell_type": "code",
   "execution_count": 20,
   "metadata": {},
   "outputs": [
    {
     "output_type": "execute_result",
     "data": {
      "text/plain": "[('mike', 10),\n ('julian', 7),\n ('bob', 5),\n ('mike', 11),\n ('julian', 8),\n ('bob', 6)]"
     },
     "metadata": {},
     "execution_count": 20
    }
   ],
   "source": [
    "challenges_done"
   ]
  },
  {
   "cell_type": "code",
   "execution_count": 24,
   "metadata": {},
   "outputs": [
    {
     "output_type": "error",
     "ename": "KeyError",
     "evalue": "'mike'",
     "traceback": [
      "\u001b[0;31m---------------------------------------------------------------------------\u001b[0m",
      "\u001b[0;31mKeyError\u001b[0m                                  Traceback (most recent call last)",
      "\u001b[0;32m<ipython-input-24-5d8074648e43>\u001b[0m in \u001b[0;36m<module>\u001b[0;34m\u001b[0m\n\u001b[1;32m      1\u001b[0m \u001b[0mchallenges\u001b[0m \u001b[0;34m=\u001b[0m \u001b[0;34m{\u001b[0m\u001b[0;34m}\u001b[0m\u001b[0;34m\u001b[0m\u001b[0;34m\u001b[0m\u001b[0m\n\u001b[1;32m      2\u001b[0m \u001b[0;32mfor\u001b[0m \u001b[0mname\u001b[0m\u001b[0;34m,\u001b[0m \u001b[0mchallenge\u001b[0m \u001b[0;32min\u001b[0m \u001b[0mchallenges_done\u001b[0m\u001b[0;34m:\u001b[0m\u001b[0;34m\u001b[0m\u001b[0;34m\u001b[0m\u001b[0m\n\u001b[0;32m----> 3\u001b[0;31m     \u001b[0mchallenges\u001b[0m\u001b[0;34m[\u001b[0m\u001b[0mname\u001b[0m\u001b[0;34m]\u001b[0m\u001b[0;34m.\u001b[0m\u001b[0mappend\u001b[0m\u001b[0;34m(\u001b[0m\u001b[0mchallenge\u001b[0m\u001b[0;34m)\u001b[0m\u001b[0;34m\u001b[0m\u001b[0;34m\u001b[0m\u001b[0m\n\u001b[0m",
      "\u001b[0;31mKeyError\u001b[0m: 'mike'"
     ]
    }
   ],
   "source": [
    "challenges = {}\n",
    "for name, challenge in challenges_done:\n",
    "    challenges[name].append(challenge)"
   ]
  },
  {
   "cell_type": "code",
   "execution_count": 25,
   "metadata": {},
   "outputs": [
    {
     "output_type": "execute_result",
     "data": {
      "text/plain": "defaultdict(list, {'mike': [10, 11], 'julian': [7, 8], 'bob': [5, 6]})"
     },
     "metadata": {},
     "execution_count": 25
    }
   ],
   "source": [
    "challenges = defaultdict(list)\n",
    "for name, challenge in challenges_done:\n",
    "    challenges[name].append(challenge)\n",
    "challenges"
   ]
  },
  {
   "cell_type": "markdown",
   "metadata": {},
   "source": [
    "# Counter"
   ]
  },
  {
   "cell_type": "code",
   "execution_count": 26,
   "metadata": {},
   "outputs": [
    {
     "output_type": "execute_result",
     "data": {
      "text/plain": "['Lorem', 'Ipsum', 'is', 'simply', 'dummy']"
     },
     "metadata": {},
     "execution_count": 26
    }
   ],
   "source": [
    "words = \"\"\"Lorem Ipsum is simply dummy text of the printing and typesetting industry. Lorem Ipsum has been \n",
    "the industry's standard dummy text ever since the 1500s, when an unknown printer took a galley of type and \n",
    "scrambled it to make a type specimen book. It has survived not only five centuries, but also the leap into \n",
    "electronic typesetting, remaining essentially unchanged. It was popularised in the 1960s with the release of\n",
    "Letraset sheets containing Lorem Ipsum passages, and more recently with desktop publishing software like Aldus\n",
    "PageMaker including versions of Lorem Ipsum\"\"\".split()\n",
    "words[:5]"
   ]
  },
  {
   "cell_type": "code",
   "execution_count": 28,
   "metadata": {
    "tags": []
   },
   "outputs": [
    {
     "output_type": "stream",
     "name": "stdout",
     "text": "the 6\nLorem 4\nIpsum 4\nof 4\nand 3\n"
    }
   ],
   "source": [
    "common_words = {}\n",
    "\n",
    "for word in words:\n",
    "    if word not in common_words:\n",
    "        common_words[word]= 0\n",
    "    common_words[word] += 1\n",
    "\n",
    "for k, v in sorted(common_words.items(), \n",
    "                    key = lambda x:x[1],\n",
    "                    reverse = True)[:5]:\n",
    "    print(k, v)"
   ]
  },
  {
   "cell_type": "code",
   "execution_count": 29,
   "metadata": {},
   "outputs": [
    {
     "output_type": "execute_result",
     "data": {
      "text/plain": "[('the', 6), ('Lorem', 4), ('Ipsum', 4), ('of', 4), ('and', 3)]"
     },
     "metadata": {},
     "execution_count": 29
    }
   ],
   "source": [
    "Counter(words).most_common(5)"
   ]
  },
  {
   "cell_type": "markdown",
   "metadata": {},
   "source": [
    "# deque"
   ]
  },
  {
   "cell_type": "code",
   "execution_count": 32,
   "metadata": {},
   "outputs": [],
   "source": [
    "lst = list(range(10000000))\n",
    "deq = deque(range(10000000))"
   ]
  },
  {
   "cell_type": "code",
   "execution_count": 33,
   "metadata": {
    "tags": []
   },
   "outputs": [
    {
     "output_type": "stream",
     "name": "stdout",
     "text": "162 ms ± 1.78 ms per loop (mean ± std. dev. of 7 runs, 10 loops each)\n19.8 µs ± 178 ns per loop (mean ± std. dev. of 7 runs, 10000 loops each)\n"
    }
   ],
   "source": [
    "def insert_and_delete(ds):\n",
    "    for _ in range(10):\n",
    "        index = random.choice(range(100))\n",
    "        ds.remove(index)\n",
    "        ds.insert(index, index)\n",
    "%timeit insert_and_delete(lst)\n",
    "%timeit insert_and_delete(deq)"
   ]
  },
  {
   "cell_type": "code",
   "execution_count": 38,
   "metadata": {},
   "outputs": [
    {
     "output_type": "execute_result",
     "data": {
      "text/plain": "('movies.csv', <http.client.HTTPMessage at 0x7fef7995eb50>)"
     },
     "metadata": {},
     "execution_count": 38
    }
   ],
   "source": [
    "movie_data = 'https://raw.githubusercontent.com/pybites/challenges/solutions/13/movie_metadata.csv'\n",
    "movies_csv = 'movies.csv'\n",
    "urlretrieve(movie_data, movies_csv)"
   ]
  },
  {
   "cell_type": "code",
   "execution_count": 39,
   "metadata": {},
   "outputs": [],
   "source": [
    "Movie = namedtuple('Movie', 'title year score')"
   ]
  },
  {
   "cell_type": "code",
   "execution_count": 40,
   "metadata": {},
   "outputs": [],
   "source": [
    "def get_movies_by_director(data = movies_csv):\n",
    "    directors = defaultdict(list)\n",
    "\n",
    "    with open(data, encoding = 'utf-8') as f:\n",
    "        for line in csv.DictReader(f):\n",
    "            try: \n",
    "                director = line['director_name']\n",
    "                movie = line['movie_title'].replace('\\xa0', '')\n",
    "                year = int(line['title_year'])\n",
    "                score = float(line['imdb_score'])\n",
    "            except ValueError:\n",
    "                continue\n",
    "            m = Movie(title = movie, year = year, score = score)\n",
    "            directors[director].append(m)\n",
    "\n",
    "    return directors"
   ]
  },
  {
   "cell_type": "code",
   "execution_count": 41,
   "metadata": {},
   "outputs": [],
   "source": [
    "directors = get_movies_by_director()"
   ]
  },
  {
   "cell_type": "code",
   "execution_count": 43,
   "metadata": {},
   "outputs": [
    {
     "output_type": "execute_result",
     "data": {
      "text/plain": "[Movie(title='The Dark Knight Rises', year=2012, score=8.5),\n Movie(title='The Dark Knight', year=2008, score=9.0),\n Movie(title='Interstellar', year=2014, score=8.6),\n Movie(title='Inception', year=2010, score=8.8),\n Movie(title='Batman Begins', year=2005, score=8.3),\n Movie(title='Insomnia', year=2002, score=7.2),\n Movie(title='The Prestige', year=2006, score=8.5),\n Movie(title='Memento', year=2000, score=8.5)]"
     },
     "metadata": {},
     "execution_count": 43
    }
   ],
   "source": [
    "directors['Christopher Nolan']"
   ]
  },
  {
   "cell_type": "code",
   "execution_count": 45,
   "metadata": {},
   "outputs": [
    {
     "output_type": "execute_result",
     "data": {
      "text/plain": "[('Steven Spielberg', 26),\n ('Woody Allen', 22),\n ('Martin Scorsese', 20),\n ('Clint Eastwood', 20),\n ('Ridley Scott', 17)]"
     },
     "metadata": {},
     "execution_count": 45
    }
   ],
   "source": [
    "cnt = Counter()\n",
    "for director, movies in directors.items():\n",
    "    cnt[director] += len(movies)\n",
    "cnt.most_common(5)\n"
   ]
  },
  {
   "cell_type": "code",
   "execution_count": null,
   "metadata": {},
   "outputs": [],
   "source": []
  }
 ]
}